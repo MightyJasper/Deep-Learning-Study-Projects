{
 "cells": [
  {
   "cell_type": "code",
   "execution_count": 7,
   "id": "1b5eb18f-c55d-4530-9c10-04124ec2536c",
   "metadata": {},
   "outputs": [],
   "source": [
    "import numpy as np\n",
    "import matplotlib.pyplot as plt\n",
    "import h5py\n",
    "import scipy\n",
    "from PIL import Image\n",
    "from scipy import ndimage\n",
    "\n",
    "%matplotlib inline"
   ]
  },
  {
   "cell_type": "markdown",
   "id": "1ddda90e-270a-43e6-89cd-e8dd895bcb91",
   "metadata": {},
   "source": [
    "### **Loading the dataset**"
   ]
  },
  {
   "cell_type": "code",
   "execution_count": 9,
   "id": "7828d51b-e8c3-4711-a591-64858812e4e3",
   "metadata": {},
   "outputs": [],
   "source": [
    "def load_dataset():\n",
    "    train_dataset = h5py.File('/home/yeabsira/Documents/Deep Learning Specialization study materials/Logistic Regression/datasets/train_catvnoncat.h5', \"r\")\n",
    "    train_set_x_orig = np.array(train_dataset[\"train_set_x\"][:]) # your train set features\n",
    "    train_set_y_orig = np.array(train_dataset[\"train_set_y\"][:]) # your train set labels\n",
    "\n",
    "    test_dataset = h5py.File('/home/yeabsira/Documents/Deep Learning Specialization study materials/Logistic Regression/datasets/test_catvnoncat.h5', \"r\")\n",
    "    test_set_x_orig = np.array(test_dataset[\"test_set_x\"][:]) # your test set features\n",
    "    test_set_y_orig = np.array(test_dataset[\"test_set_y\"][:]) # your test set labels\n",
    "\n",
    "    classes = np.array(test_dataset[\"list_classes\"][:]) # the list of classes\n",
    "    \n",
    "    train_set_y_orig = train_set_y_orig.reshape((1, train_set_y_orig.shape[0]))\n",
    "    test_set_y_orig = test_set_y_orig.reshape((1, test_set_y_orig.shape[0]))\n",
    "    \n",
    "    return train_set_x_orig, train_set_y_orig, test_set_x_orig, test_set_y_orig, classes"
   ]
  },
  {
   "cell_type": "code",
   "execution_count": 53,
   "id": "0eb518a0-5da7-4a12-b054-46356ab5d8a3",
   "metadata": {},
   "outputs": [],
   "source": [
    "train_set_x_orig, train_set_y, test_set_x_orig, test_set_y, classes = load_dataset() "
   ]
  },
  {
   "cell_type": "markdown",
   "id": "c926ce95-2c6c-4261-af33-ddb267bf2770",
   "metadata": {},
   "source": [
    "Each line of the training and testing sets of X are arrays representing an image"
   ]
  },
  {
   "cell_type": "code",
   "execution_count": 54,
   "id": "e92ed9b5-6b0a-4f62-a1c6-53c5f833bab3",
   "metadata": {},
   "outputs": [
    {
     "data": {
      "text/plain": [
       "array([[158, 103,  82],\n",
       "       [160, 104,  82],\n",
       "       [162, 105,  83],\n",
       "       [163, 106,  83],\n",
       "       [163, 106,  84],\n",
       "       [161, 105,  84],\n",
       "       [162, 106,  85],\n",
       "       [165, 108,  86],\n",
       "       [163, 109,  87],\n",
       "       [159, 110,  90],\n",
       "       [158, 111,  91],\n",
       "       [162, 111,  90],\n",
       "       [168, 113,  92],\n",
       "       [167, 114,  93],\n",
       "       [166, 114,  92],\n",
       "       [170, 115,  94]], dtype=uint8)"
      ]
     },
     "execution_count": 54,
     "metadata": {},
     "output_type": "execute_result"
    }
   ],
   "source": [
    "test_set_x_orig[0][1][:16]"
   ]
  },
  {
   "cell_type": "code",
   "execution_count": 55,
   "id": "bde6ef86-4d23-4137-bd9b-8d0aef20f77b",
   "metadata": {},
   "outputs": [
    {
     "name": "stdout",
     "output_type": "stream",
     "text": [
      "y = 0, it's a 'non-cat' picture.\n"
     ]
    },
    {
     "data": {
      "image/png": "[encoded data removed]",
      "text/plain": [
       "<Figure size 432x288 with 1 Axes>"
      ]
     },
     "metadata": {
      "needs_background": "light"
     },
     "output_type": "display_data"
    }
   ],
   "source": [
    "#Example of a picture\n",
    "\n",
    "index = 17\n",
    "plt.imshow(train_set_x_orig[index])\n",
    "print (\"y = \" + str(train_set_y[0, index]) + \", it's a '\" + classes[np.squeeze(train_set_y[:, index])].decode(\"utf-8\") + \"' picture.\")"
   ]
  },
  {
   "cell_type": "code",
   "execution_count": 56,
   "id": "99467728-b4a2-41a0-ba13-aec78d43ed10",
   "metadata": {},
   "outputs": [
    {
     "data": {
      "text/plain": [
       "(209, 64, 64, 3)"
      ]
     },
     "execution_count": 56,
     "metadata": {},
     "output_type": "execute_result"
    }
   ],
   "source": [
    "train_set_x_orig.shape"
   ]
  },
  {
   "cell_type": "code",
   "execution_count": 57,
   "id": "abd34b5e-8732-451d-97b2-dc8dc46bc7bc",
   "metadata": {},
   "outputs": [
    {
     "name": "stdout",
     "output_type": "stream",
     "text": [
      "Number of training examples:  209\n",
      "Number of testing examples:  50\n",
      "Image Height: 64 \n",
      "Image Width: 64\n",
      "Each image is of size:  (64, 64, 3)\n",
      "train_set_x shape:  (209, 64, 64, 3)\n",
      "train_set_y shape:  (1, 209)\n",
      "test_set_x shape:  (50, 64, 64, 3)\n",
      "test_set_y shape:  (1, 50)\n"
     ]
    }
   ],
   "source": [
    "print(\"Number of training examples: \", train_set_x_orig.shape[0])\n",
    "print(\"Number of testing examples: \", test_set_x_orig.shape[0])\n",
    "print(f\"Image Height: {train_set_x_orig.shape[1]} \\nImage Width: {train_set_x_orig.shape[2]}\")\n",
    "print(\"Each image is of size: \", train_set_x_orig.shape[1:])\n",
    "print(\"train_set_x shape: \", train_set_x_orig.shape)\n",
    "print(\"train_set_y shape: \", train_set_y_orig.shape)\n",
    "print(\"test_set_x shape: \", test_set_x_orig.shape)\n",
    "print(\"test_set_y shape: \", test_set_y.shape)"
   ]
  },
  {
   "cell_type": "markdown",
   "id": "40ecc4b6-93c3-4158-8cc0-e75ff280256e",
   "metadata": {},
   "source": [
    "## **Data Preprocessing**"
   ]
  },
  {
   "cell_type": "markdown",
   "id": "5466ce8b-aca3-4dcc-bdfc-a2ac6065b6e1",
   "metadata": {},
   "source": [
    "### Flattening the array data"
   ]
  },
  {
   "cell_type": "code",
   "execution_count": 58,
   "id": "b094f2d8-ee71-4b1d-bcd5-14dbb8b230f2",
   "metadata": {},
   "outputs": [],
   "source": [
    "train_set_x_flatten = train_set_x_orig.reshape(train_set_x_orig.shape[0], -1).T\n",
    "test_set_x_flatten = test_set_x_orig.reshape(test_set_x_orig.shape[1] * test_set_x_orig.shape[2] * test_set_x_orig.shape[3], test_set_x_orig.shape[0])"
   ]
  },
  {
   "cell_type": "code",
   "execution_count": 61,
   "id": "6bd549e0-52f7-4502-929e-541a3a4b1692",
   "metadata": {},
   "outputs": [
    {
     "name": "stdout",
     "output_type": "stream",
     "text": [
      "train_set_x_flatten shape:  (12288, 209)\n",
      "train_set_y shape:  (1, 209)\n",
      "test_set_x_flatten shape:  (12288, 50)\n",
      "test_set_y shape:  (1, 50)\n",
      "sanity check after reshaping:  [17 31 56 22 33]\n"
     ]
    }
   ],
   "source": [
    "print (\"train_set_x_flatten shape: \", train_set_x_flatten.shape)\n",
    "print (\"train_set_y shape: \", train_set_y.shape)\n",
    "print (\"test_set_x_flatten shape: \", test_set_x_flatten.shape)\n",
    "print (\"test_set_y shape: \", test_set_y.shape)\n",
    "print (\"sanity check after reshaping: \", train_set_x_flatten[0:5,0])"
   ]
  },
  {
   "cell_type": "markdown",
   "id": "f2c3e370-5f13-4171-bc08-41a0adfde227",
   "metadata": {},
   "source": [
    ">**Standardizing the dataset**\n",
    "\n",
    "One common preprocessing step in machine learning is to center and standardize your dataset, meaning that you substract the mean of the whole numpy array from each example, and then divide each example by the standard deviation of the whole numpy array. But for picture datasets, it is simpler and more convenient and works almost as well to just divide every row of the dataset by 255 (the maximum value of a pixel channel)."
   ]
  },
  {
   "cell_type": "code",
   "execution_count": 69,
   "id": "fb1f0a9f-6f7f-468e-963c-03a1a47209bc",
   "metadata": {},
   "outputs": [],
   "source": [
    "train_set_x = train_set_x_flatten / 255.0\n",
    "test_set_x = test_set_x_flatten / 255.0"
   ]
  },
  {
   "cell_type": "markdown",
   "id": "84f8f63e-af69-413c-af18-2788d3007221",
   "metadata": {},
   "source": [
    "## **Building algorithms for the Model**"
   ]
  },
  {
   "cell_type": "markdown",
   "id": "9932977b-60bd-4c51-b510-ce0910606fa8",
   "metadata": {},
   "source": [
    "In building a Neural Network the main steps are to:\n",
    "    1. Define the model structure (such as number of input features)\n",
    "    2. Initialize the model's parameters\n",
    "    3. Loop through to:\n",
    "        * Calculate current loss (forward propagation)\n",
    "        * Calculate current gradient (backward propagation)\n",
    "        * Update parameters (gradient descent)\n",
    "        \n",
    ">**Integrating the above steps into one function will give birth to our model()**"
   ]
  },
  {
   "cell_type": "code",
   "execution_count": 70,
   "id": "fd6f049b-ae6b-4250-8ed4-187aa0286fea",
   "metadata": {},
   "outputs": [],
   "source": [
    "def sigmoid(z):\n",
    "    \"\"\"\n",
    "    Compute the sigmoid of z\n",
    "    \n",
    "    Arguments:\n",
    "    z -> A scalar or numpy array of any size.\n",
    "    \n",
    "    Return:\n",
    "    s -> sigmoid(z)\n",
    "    \"\"\"\n",
    "    \n",
    "    s = 1 / (1 + np.exp(-z))\n",
    "    \n",
    "    return s"
   ]
  },
  {
   "cell_type": "code",
   "execution_count": 71,
   "id": "4657de13-9951-45d1-b74f-95e4f0c6156f",
   "metadata": {},
   "outputs": [],
   "source": [
    "def initialize_with_zeros(dim):\n",
    "    \"\"\"\n",
    "     This function creates a vector of zeros of shape (dim, 1) for w and initializes b to 0.\n",
    "    \n",
    "    Argument:\n",
    "    dim -> size of the w vector we want (or number of parameters in this case)\n",
    "    \n",
    "    Returns:\n",
    "    w -> initialized vector of shape (dim, 1)\n",
    "    b -> initialized scalar (corresponds to the bias)\n",
    "    \"\"\"\n",
    "    \n",
    "    w = np.zeros((dim,1))\n",
    "    b = 0\n",
    "    \n",
    "    assert(w.shape == (dim, 1))\n",
    "    assert(isinstance(b, float) or isinstance(b, int))\n",
    "    \n",
    "    return w, b"
   ]
  },
  {
   "cell_type": "code",
   "execution_count": 72,
   "id": "742b1303-d6e1-49c1-a45d-560abfe321db",
   "metadata": {},
   "outputs": [
    {
     "name": "stdout",
     "output_type": "stream",
     "text": [
      "w =  [[0.]\n",
      " [0.]\n",
      " [0.]]\n",
      "b =  0\n"
     ]
    }
   ],
   "source": [
    "dim=3\n",
    "w, b = initialize_with_zeros(dim)\n",
    "print ('w = ', w)\n",
    "print('b = ', b)"
   ]
  },
  {
   "cell_type": "markdown",
   "id": "8d434ef2-9ff9-432e-bf5d-d1fc773e23f3",
   "metadata": {},
   "source": [
    "Creating the forward and backward propagation steps to learn the parameters"
   ]
  },
  {
   "cell_type": "code",
   "execution_count": 76,
   "id": "be53a085-5c57-4bdd-a511-b67ecffd1fcf",
   "metadata": {},
   "outputs": [],
   "source": [
    "def propagate(w, b, X, Y):\n",
    "    \"\"\"\n",
    "    Implement the cost function and its gradient\n",
    "    \n",
    "    Arguments:\n",
    "    w -> weights, a numpy array of size (num_px * num_px * 3, 1)\n",
    "    b -> bias, a scalar\n",
    "    X -> data of size (num_px * num_px * 3, number of examples)\n",
    "    Y -> true \"label\" vector (containing 0 if non-cat, 1 if cat) of size (1, number of examples)\n",
    "\n",
    "    Return:\n",
    "    cost -> negative log-likelihood cost for logistic regression\n",
    "    dw -> gradient of the loss with respect to w, thus same shape as w\n",
    "    db -> gradient of the loss with respect to b, thus same shape as b\n",
    "    \"\"\"\n",
    "    \n",
    "    m = X.shape[1] #number of observations\n",
    "    \n",
    "    # Forward propagation (from X to Cost)\n",
    "    A = sigmoid(np.dot(w.T, X) + b)\n",
    "    cost = np.sum(((-np.log(A))*Y + (-np.log(1-A))*(1-Y)))/m\n",
    "    \n",
    "    # Backward propagation (To find the gradient descent)\n",
    "    dw = (np.dot(X,(A-Y).T))/m\n",
    "    db = (np.sum(A-Y))/m\n",
    "    \n",
    "    assert(dw.shape == w.shape)\n",
    "    assert(db.dtype == float)\n",
    "    cost = np.squeeze(cost)\n",
    "    assert(cost.shape ==())\n",
    "    \n",
    "    grads = {\"dw\": dw, \"db\": db}\n",
    "    \n",
    "    return grads, cost"
   ]
  },
  {
   "cell_type": "code",
   "execution_count": 77,
   "id": "08791363-d90b-4a5b-b4a9-78a7696357e2",
   "metadata": {},
   "outputs": [
    {
     "name": "stdout",
     "output_type": "stream",
     "text": [
      "dw =  [[0.99845601]\n",
      " [2.39507239]]\n",
      "db =  0.001455578136784208\n",
      "cost =  5.801545319394553\n"
     ]
    }
   ],
   "source": [
    "w, b, X, Y = np.array([[1.],[2.]]), 2., np.array([[1.,2.,-1.],[3.,4.,-3.2]]), np.array([[1,0,1]])\n",
    "grads, cost = propagate(w, b, X, Y)\n",
    "print (\"dw = \", grads[\"dw\"])\n",
    "print (\"db = \", grads[\"db\"])\n",
    "print (\"cost = \",cost)"
   ]
  },
  {
   "cell_type": "markdown",
   "id": "13850dfa-0a31-464c-b3a6-2c1abfaf05c0",
   "metadata": {},
   "source": [
    "Defining optimization function to update the weight (w) and bias (b) parameters with respect to the minimization of the cost function."
   ]
  },
  {
   "cell_type": "code",
   "execution_count": 81,
   "id": "ed42031f-e542-40f9-a496-35477a3ccb3b",
   "metadata": {},
   "outputs": [],
   "source": [
    "def optimize(w, b, X, Y, num_iterations, learning_rate, print_cost=False):\n",
    "    \"\"\"\n",
    "    This function optimizes w and b by running a gradient descent algorithm\n",
    "    \n",
    "    Arguments:\n",
    "    w -> weights, a numpy array of size (num_px * num_px * 3, 1)\n",
    "    b -> bias, a scalar\n",
    "    X -> data of shape (num_px * num_px * 3, number of examples)\n",
    "    Y -> true \"label\" vector (containing 0 if non-cat, 1 if cat), of shape (1, number of examples)\n",
    "    num_iterations -> number of iterations of the optimization loop\n",
    "    learning_rate -> learning rate of the gradient descent update rule\n",
    "    print_cost -> True to print the loss every 100 steps\n",
    "    \n",
    "    Returns:\n",
    "    params -> dictionary containing the weights w and bias b\n",
    "    grads -> dictionary containing the gradients of the weights and bias with respect to the cost function\n",
    "    costs -> list of all the costs computed during the optimization, this will be used to plot the learning curve.\n",
    "    \n",
    "    Tips:\n",
    "    You basically need to write down two steps and iterate through them:\n",
    "        1) Calculate the cost and the gradient for the current parameters. Use propagate().\n",
    "        2) Update the parameters using gradient descent rule for w and b.\n",
    "    \"\"\"\n",
    "    \n",
    "    costs = []\n",
    "    \n",
    "    for i in range(num_iterations):\n",
    "        # Calculating gradient and cost\n",
    "        grads, cost = propagate(w,b,X,Y)\n",
    "        \n",
    "        # Retrieving the derivatives with respect to w and b form grads\n",
    "        dw = grads[\"dw\"]\n",
    "        db = grads[\"db\"]\n",
    "        \n",
    "        # Updating the weight and bias values\n",
    "        w = w - (learning_rate * dw)\n",
    "        b = b - (learning_rate * db)\n",
    "        \n",
    "        # Storing the cost values every 100 iterations\n",
    "        if i % 100 == 0:\n",
    "            costs.append(cost)\n",
    "            \n",
    "        # Print the cost every 100 training iterations\n",
    "        if print_cost and i % 100 == 0:\n",
    "            print(\"Cost after iteration %i: %f\" %(i, cost))\n",
    "            \n",
    "    params = {\"w\": w, \"b\": b}\n",
    "    \n",
    "    grads = {\"dw\": dw, \"db\": db}\n",
    "    \n",
    "    return params, grads, costs"
   ]
  },
  {
   "cell_type": "code",
   "execution_count": 82,
   "id": "f48ec5e6-3047-46b4-b164-38cd09a8e853",
   "metadata": {},
   "outputs": [
    {
     "name": "stdout",
     "output_type": "stream",
     "text": [
      "w =  [[0.19033591]\n",
      " [0.12259159]]\n",
      "b =  1.9253598300845747\n",
      "dw =  [[0.67752042]\n",
      " [1.41625495]]\n",
      "db =  0.21919450454067654\n"
     ]
    }
   ],
   "source": [
    "params, grads, costs = optimize(w, b, X, Y, num_iterations= 100, learning_rate = 0.009, print_cost = False)\n",
    "\n",
    "print (\"w = \", params[\"w\"])\n",
    "print (\"b = \", params[\"b\"])\n",
    "print (\"dw = \", grads[\"dw\"])\n",
    "print (\"db = \", grads[\"db\"])"
   ]
  },
  {
   "cell_type": "code",
   "execution_count": 86,
   "id": "b8392b54-ee6a-4e37-9e3c-3d1dc1ee3f62",
   "metadata": {},
   "outputs": [
    {
     "data": {
      "text/plain": [
       "[<matplotlib.lines.Line2D at 0x7f71858e2b80>]"
      ]
     },
     "execution_count": 86,
     "metadata": {},
     "output_type": "execute_result"
    },
    {
     "data": {
      "image/png": "[encoded data removed]",
      "text/plain": [
       "<Figure size 432x288 with 1 Axes>"
      ]
     },
     "metadata": {
      "needs_background": "light"
     },
     "output_type": "display_data"
    }
   ],
   "source": [
    "plt.plot(costs)"
   ]
  },
  {
   "cell_type": "markdown",
   "id": "77ab2c08-e15e-478f-ab27-e32c222c1d09",
   "metadata": {},
   "source": [
    "Defining predicting function"
   ]
  },
  {
   "cell_type": "code",
   "execution_count": 91,
   "id": "c0de7cec-e3a7-4f39-b372-6a33ba3000d4",
   "metadata": {},
   "outputs": [],
   "source": [
    "def predict(w, b, X):\n",
    "    \"\"\"\n",
    "    Predict whether the label is 0 or 1 using learned logistic regression parameters (w, b)\n",
    "    \n",
    "    Arguments:\n",
    "    w -> weights, a numpy array of size (num_px * num_px * 3, 1)\n",
    "    b -> bias, a scalar\n",
    "    X -> data of size (num_px * num_px * 3, number of examples)\n",
    "    \n",
    "    Returns:\n",
    "    Y_prediction -> a numpy array (vector) containing all predictions (0/1) for the examples in X\n",
    "    \"\"\"\n",
    "    \n",
    "    m = X.shape[1]\n",
    "    y_pred = np.zeros((1,m))\n",
    "    w = w.reshape(X.shape[0], 1)\n",
    "    A = sigmoid(np.dot(w.T,X) + b)\n",
    "    \n",
    "    y_pred = (A >= 0.5) * 1.0\n",
    "    \n",
    "    assert(y_pred.shape == (1, m))\n",
    "    \n",
    "    return y_pred"
   ]
  },
  {
   "cell_type": "code",
   "execution_count": 93,
   "id": "41cc3676-1432-4764-8ba1-4639be806a71",
   "metadata": {},
   "outputs": [
    {
     "name": "stdout",
     "output_type": "stream",
     "text": [
      "predictions =  [1. 1. 0.]\n"
     ]
    }
   ],
   "source": [
    "w = np.array([[0.1124579],[0.23106775]])\n",
    "b = -0.3\n",
    "X = np.array([[1.,-1.1,-3.2],[1.2,2.,0.1]])\n",
    "print (\"predictions = \", np.squeeze(predict(w, b, X)))"
   ]
  },
  {
   "cell_type": "markdown",
   "id": "b23d95ee-a189-453a-9a9b-668b1bbf98be",
   "metadata": {},
   "source": [
    "## **Merging all functions to construct the model**"
   ]
  },
  {
   "cell_type": "code",
   "execution_count": 119,
   "id": "23b3b431-ac1d-478c-9d11-48d93fd212d9",
   "metadata": {},
   "outputs": [],
   "source": [
    "def model(X_train, Y_train, X_test, Y_test, num_iterations=2000, learning_rate=0.5, print_cost=False):\n",
    "    \"\"\"\n",
    "    Builds the logistic regression model by calling the function you've implemented previously\n",
    "    \n",
    "    Arguments:\n",
    "    X_train -> training set represented by a numpy array of shape (num_px * num_px * 3, m_train)\n",
    "    Y_train -> training labels represented by a numpy array (vector) of shape (1, m_train)\n",
    "    X_test -> test set represented by a numpy array of shape (num_px * num_px * 3, m_test)\n",
    "    Y_test -> test labels represented by a numpy array (vector) of shape (1, m_test)\n",
    "    num_iterations -> hyperparameter representing the number of iterations to optimize the parameters\n",
    "    learning_rate -> hyperparameter representing the learning rate used in the update rule of optimize()\n",
    "    print_cost -> Set to true to print the cost every 100 iterations\n",
    "    \n",
    "    Returns:\n",
    "    d -> dictionary containing information about the model.\n",
    "    \"\"\"\n",
    "    \n",
    "    # Initializing parameters with zeros\n",
    "    w, b = initialize_with_zeros(X_train.shape[0])\n",
    "    \n",
    "    # Calculating for the gradient descent and performing optimization on the weight and bias\n",
    "    parameters, grads, costs = optimize(w, b, X_train, Y_train, num_iterations, learning_rate, print_cost)\n",
    "    \n",
    "    # Retrieving parameters for predicton\n",
    "    w = parameters[\"w\"]\n",
    "    b = parameters[\"b\"]\n",
    "    \n",
    "    # Predicting both for the training and testing sets\n",
    "    pred_train = predict(w, b, X_train)\n",
    "    pred_test = predict(w, b, X_test)\n",
    "    \n",
    "    # Calculating the training and testing predictions accuracy using MAE\n",
    "    train_acc = f\"{100 - np.mean(np.abs(pred_train - Y_train)) * 100} %\"\n",
    "    test_acc = f\"{100 - np.mean(np.abs(pred_test - Y_test)) * 100} %\"\n",
    "    \n",
    "    # Construct a dictionary that holds the parameters, predicted values and costs\n",
    "    result = {\n",
    "        \"Train Accuracy\" : train_acc,\n",
    "        \"Test Accuracy\" : test_acc,\n",
    "        \"Learning Rate\" : learning_rate,\n",
    "        \"Number of Iterations\" : num_iterations,\n",
    "        \"Train Prediction\" : pred_train,\n",
    "        \"Test Prediction\" : pred_test,\n",
    "        \"Costs\" : costs,\n",
    "        \"Weight\" : w,\n",
    "        \"Bias\" : b,\n",
    "        \n",
    "    }\n",
    "    \n",
    "    return result"
   ]
  },
  {
   "cell_type": "code",
   "execution_count": 120,
   "id": "9bf556b0-fd5d-4c34-81e9-7d7ba98dc7aa",
   "metadata": {},
   "outputs": [],
   "source": [
    "results = model(train_set_x, train_set_y, test_set_x, test_set_y, num_iterations = 2000, learning_rate = 0.005, print_cost = False)"
   ]
  },
  {
   "cell_type": "code",
   "execution_count": 121,
   "id": "badb87fb-593e-4039-908b-1cd531f0bc0f",
   "metadata": {},
   "outputs": [
    {
     "data": {
      "text/plain": [
       "{'Train Accuracy': '99.04306220095694 %',\n",
       " 'Test Accuracy': '66.0 %',\n",
       " 'Learning Rate': 0.005,\n",
       " 'Number of Iterations': 2000,\n",
       " 'Train Prediction': array([[0., 0., 1., 0., 0., 0., 0., 1., 0., 0., 0., 1., 0., 1., 1., 0.,\n",
       "         0., 0., 0., 1., 0., 0., 0., 0., 1., 1., 0., 1., 0., 1., 0., 0.,\n",
       "         0., 0., 0., 0., 0., 0., 1., 0., 0., 0., 1., 0., 0., 0., 0., 1.,\n",
       "         0., 0., 1., 0., 0., 0., 1., 0., 1., 1., 0., 1., 1., 1., 0., 0.,\n",
       "         0., 0., 0., 0., 1., 0., 0., 1., 0., 0., 0., 1., 0., 0., 0., 0.,\n",
       "         0., 0., 0., 1., 1., 0., 0., 0., 1., 0., 0., 0., 1., 1., 1., 0.,\n",
       "         0., 1., 0., 0., 0., 0., 1., 0., 1., 0., 1., 1., 1., 1., 1., 1.,\n",
       "         0., 0., 0., 0., 0., 1., 0., 0., 0., 1., 0., 0., 1., 0., 1., 0.,\n",
       "         1., 1., 0., 0., 0., 1., 1., 1., 1., 1., 0., 0., 0., 0., 1., 0.,\n",
       "         1., 1., 1., 0., 1., 1., 0., 0., 0., 1., 0., 0., 1., 0., 0., 0.,\n",
       "         0., 0., 1., 0., 1., 0., 1., 0., 0., 1., 1., 1., 0., 0., 1., 1.,\n",
       "         0., 1., 0., 1., 0., 0., 0., 0., 0., 1., 0., 0., 1., 0., 0., 0.,\n",
       "         1., 0., 0., 0., 0., 1., 0., 0., 1., 0., 0., 0., 0., 0., 0., 0.,\n",
       "         0.]]),\n",
       " 'Test Prediction': array([[1., 1., 1., 1., 1., 1., 1., 1., 1., 1., 1., 1., 1., 1., 1., 1.,\n",
       "         1., 1., 1., 1., 1., 1., 1., 1., 1., 1., 1., 1., 1., 1., 1., 1.,\n",
       "         1., 1., 1., 1., 1., 1., 1., 1., 1., 1., 1., 1., 1., 1., 1., 1.,\n",
       "         1., 1.]]),\n",
       " 'Costs': [0.6931471805599453,\n",
       "  0.5845083636993086,\n",
       "  0.4669490409465547,\n",
       "  0.37600686694802077,\n",
       "  0.33146328932825125,\n",
       "  0.30327306747438293,\n",
       "  0.27987958658260487,\n",
       "  0.26004213692587574,\n",
       "  0.2429406846779662,\n",
       "  0.2280042225672607,\n",
       "  0.2148195137844964,\n",
       "  0.20307819060644985,\n",
       "  0.1925442771670686,\n",
       "  0.18303333796883506,\n",
       "  0.17439859438448874,\n",
       "  0.16652139705400335,\n",
       "  0.15930451829756614,\n",
       "  0.152667324712965,\n",
       "  0.14654223503982342,\n",
       "  0.14087207570310162],\n",
       " 'Weight': array([[ 0.00961402],\n",
       "        [-0.0264683 ],\n",
       "        [-0.01226513],\n",
       "        ...,\n",
       "        [-0.01144453],\n",
       "        [-0.02944783],\n",
       "        [ 0.02378106]]),\n",
       " 'Bias': -0.01590624399969297}"
      ]
     },
     "execution_count": 121,
     "metadata": {},
     "output_type": "execute_result"
    }
   ],
   "source": [
    "results"
   ]
  }
 ],
 "metadata": {
  "kernelspec": {
   "display_name": "Python 3 (ipykernel)",
   "language": "python",
   "name": "python3"
  },
  "language_info": {
   "codemirror_mode": {
    "name": "ipython",
    "version": 3
   },
   "file_extension": ".py",
   "mimetype": "text/x-python",
   "name": "python",
   "nbconvert_exporter": "python",
   "pygments_lexer": "ipython3",
   "version": "3.9.12"
  }
 },
 "nbformat": 4,
 "nbformat_minor": 5
}
